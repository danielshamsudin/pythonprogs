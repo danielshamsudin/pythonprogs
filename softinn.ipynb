{
 "metadata": {
  "language_info": {
   "codemirror_mode": {
    "name": "ipython",
    "version": 3
   },
   "file_extension": ".py",
   "mimetype": "text/x-python",
   "name": "python",
   "nbconvert_exporter": "python",
   "pygments_lexer": "ipython3",
   "version": "3.6.8-final"
  },
  "orig_nbformat": 2,
  "kernelspec": {
   "name": "python3",
   "display_name": "Python 3.6.8 64-bit",
   "metadata": {
    "interpreter": {
     "hash": "ff3728ef7f796f8aa3489945c0194696a9a0896e0c7b84216833c8fb9baa181d"
    }
   }
  }
 },
 "nbformat": 4,
 "nbformat_minor": 2,
 "cells": [
  {
   "cell_type": "code",
   "execution_count": 41,
   "metadata": {},
   "outputs": [],
   "source": [
    "def q1(s):\r\n",
    "    newstring = \"\"\r\n",
    "    for x in s:\r\n",
    "        if (x == 'Z'):\r\n",
    "            newstring += 'A'\r\n",
    "        elif (x == 'z'):\r\n",
    "            newstring += 'a'\r\n",
    "        else:\r\n",
    "            newstring += chr(ord(x)+1)\r\n",
    "    return newstring"
   ]
  },
  {
   "cell_type": "code",
   "execution_count": 42,
   "metadata": {},
   "outputs": [
    {
     "output_type": "stream",
     "name": "stdout",
     "text": [
      "app\nAzqis\nebojfm\n"
     ]
    }
   ],
   "source": [
    "print(q1('zoo'))\n",
    "print(q1('Zyphr'))\n",
    "print(q1('daniel'))"
   ]
  },
  {
   "cell_type": "code",
   "execution_count": 37,
   "metadata": {},
   "outputs": [],
   "source": [
    "def q2(arr):\n",
    "    s1 = dict.fromkeys(arr[0],1)\n",
    "    check = True\n",
    "    for y in arr[1]:\n",
    "        if y in s1:\n",
    "            check = check and s1[y] >= 1\n",
    "            s1[y] -= 1\n",
    "        else:\n",
    "            check = False\n",
    "    return check\n",
    "       "
   ]
  },
  {
   "cell_type": "code",
   "execution_count": 57,
   "metadata": {},
   "outputs": [
    {
     "output_type": "stream",
     "name": "stdout",
     "text": [
      "True\nTrue\nFalse\nFalse\n"
     ]
    }
   ],
   "source": [
    "a1 = ['melon', 'lemon']\n",
    "a2 = ['entrance', 'nectar']\n",
    "a3 = ['reap','drape']\n",
    "a4 = ['finished', 'finnish']\n",
    "print(q2(a1))\n",
    "print(q2(a2))\n",
    "print(q2(a3))\n",
    "print(q2(a4))"
   ]
  },
  {
   "cell_type": "code",
   "execution_count": 54,
   "metadata": {},
   "outputs": [],
   "source": [
    "def q3(n):\n",
    "   return int((n**2+n)/2)"
   ]
  },
  {
   "cell_type": "code",
   "execution_count": 55,
   "metadata": {},
   "outputs": [
    {
     "output_type": "stream",
     "name": "stdout",
     "text": [
      "6\n21\n"
     ]
    }
   ],
   "source": [
    "print(q3(3))\n",
    "print(q3(6))"
   ]
  }
 ]
}